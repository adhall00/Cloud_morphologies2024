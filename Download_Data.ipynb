{
 "cells": [
  {
   "cell_type": "code",
   "execution_count": 1,
   "metadata": {},
   "outputs": [],
   "source": [
    "from goes2go import GOES\n",
    "import pandas as pd\n",
    "from datetime import datetime\n",
    "import xarray as xr\n",
    "import subprocess\n",
    "from netCDF4 import Dataset\n",
    "import cartopy.crs as ccrs\n",
    "import cartopy.feature as cfeature\n",
    "import matplotlib.pyplot as plt\n",
    "import numpy as np"
   ]
  },
  {
   "cell_type": "markdown",
   "metadata": {},
   "source": [
    "### GOES-16 Satellite and Cloud Products\n",
    "\n",
    "The **GOES-16** satellite, part of the NOAA Geostationary Operational Environmental Satellites (GOES) series, provides advanced imaging capabilities for monitoring weather and environmental phenomena. GOES-16 operates in geostationary orbit, continuously observing the same area of the Earth, and it is particularly useful for weather forecasting, environmental monitoring, and disaster response. It collects a range of products related to clouds, moisture, solar radiation, and more, which are available through platforms like `GOES2GO`.\n",
    "\n",
    "**GOES2GO** is a Python package that allows easy access to GOES satellite data, facilitating the download and processing of various products from the satellite's instruments.\n",
    "\n",
    "Below are the products you are working with:\n",
    "\n",
    "- **ABI-L2-MCMIPC (Multi-Channel Cloud and Moisture Imagery Product)**: This product provides imagery from multiple channels of the Advanced Baseline Imager (ABI) instrument, delivering detailed information about clouds and moisture in the atmosphere. It is useful for visualizing cloud structures, monitoring moisture patterns, and aiding in severe weather detection.\n",
    "\n",
    "- **ABI-L2-CODC (Cloud Optical Depth Product)**: The Cloud Optical Depth product provides information about the thickness and density of clouds by measuring how much sunlight is transmitted through them. This product helps in understanding cloud properties and their impact on the Earth's radiation balance.\n",
    "\n",
    "- **ABI-L2-RSRC (Reflected Shortwave Radiation Product)**: This product measures the amount of shortwave solar radiation reflected by the Earth's surface and atmosphere. It is important for assessing the Earth's energy budget and understanding how clouds and aerosols affect the reflection of solar energy.\n",
    "\n",
    "Each of these products plays a key role in monitoring and analyzing weather patterns, atmospheric conditions, and energy exchanges in the Earth's atmosphere.\n"
   ]
  },
  {
   "cell_type": "code",
   "execution_count": 2,
   "metadata": {},
   "outputs": [],
   "source": [
    "cloud_and_moisture_download = GOES(satellite=16, product=\"ABI-L2-MCMIPC\", domain='C')\n",
    "\n",
    "cloud_optical_depth_download = GOES(satellite=16, product=\"ABI-L2-CODC\", domain='C')\n",
    "\n",
    "reflected_sw_downlad = GOES(satellite=16, product=\"ABI-L2-RSRC\", domain='C')"
   ]
  },
  {
   "cell_type": "markdown",
   "metadata": {},
   "source": [
    "### Downloading GOES-16 Cloud and Radiation Products for a Specific Time Period\n",
    "\n",
    "In this step, we use the `GOES2GO` package to download data from **GOES-16** for the time period between April 1, 2020, 18:00 UTC, and April 11, 2020, 20:00 UTC. We are downloading data for three specific products:\n",
    "\n",
    "- **Multi-Channel Cloud and Moisture Product (ABI-L2-MCMIPC)**: Provides cloud and moisture imagery.\n",
    "- **Cloud Optical Depth Product (ABI-L2-CODC)**: Gives information about the optical thickness of clouds.\n",
    "- **Reflected Shortwave Radiation Product (ABI-L2-RSRC)**: Measures shortwave solar radiation reflected by clouds and the Earth's surface.\n",
    "\n",
    "The data for each product is downloaded as a pandas DataFrame using the `df()` method from the `GOES2GO` package. The start and end times for the download are specified to capture the desired time range.\n"
   ]
  },
  {
   "cell_type": "code",
   "execution_count": 3,
   "metadata": {},
   "outputs": [],
   "source": [
    "df_cloud_and_moisture = cloud_and_moisture_download.df(start='2020-04-01 18:00', end='2020-04-11 20:00')\n",
    "df_cloud_optical_depth = cloud_optical_depth_download.df(start='2020-04-01 18:00', end='2020-04-11 20:00')\n",
    "df_reflected_sw = reflected_sw_downlad.df(start='2020-04-01 18:00', end='2020-04-11 20:00')"
   ]
  },
  {
   "cell_type": "markdown",
   "metadata": {},
   "source": [
    "### Function to Download GOES-16 Files for Specified Julian Days\n",
    "\n",
    "The `get_files16` function is designed to download specific GOES-16 files for a given time period, focusing on data nearest to 19:00 UTC (12 PM PDT) each day. The key steps involved are:\n",
    "\n",
    "- **Julian Days**: We specify a list of Julian days (91 to 100), corresponding to April 1 to April 10.\n",
    "- **Desired Time**: The function filters data to find the closest match to 19:00 UTC (the equivalent of 12 PM PDT) each day.\n",
    "- **File Selection**: It finds the row with the minimum time difference to 19:00 UTC for each day.\n",
    "- **File Download**: For each selected file, the corresponding file path is constructed and downloaded using the AWS CLI.\n",
    "- **Output**: The function returns a list of local file paths where the files are downloaded.\n",
    "\n",
    "The function works by:\n",
    "\n",
    "1. **Processing the DataFrame**: It converts the `start` column to pandas datetime, calculates the time difference from 19:00 UTC for each row, and selects the rows with the smallest time difference per day.\n",
    "2. **File Downloading**: It loops through the selected files and Julian days, constructs the S3 URLs and local file paths, and downloads the files using AWS CLI.\n",
    "3. **Output**: The function returns a list of local file paths where the files are stored locally.\n"
   ]
  },
  {
   "cell_type": "code",
   "execution_count": 4,
   "metadata": {},
   "outputs": [],
   "source": [
    "def get_files16(df, dataset_name):\n",
    "    julian_day = [91, 92, 93, 94, 95, 96, 97, 98, 99, 100]  # Julian days for April 1 to April 10\n",
    "\n",
    "    # Define the desired time in UTC for 12 PM PDT (which is 19:00 UTC)\n",
    "    desired_time = pd.to_datetime(\"19:00:00\")\n",
    "\n",
    "    # Convert the datetime column of your dataframe to pandas datetime (assuming it's not already)\n",
    "    df['datetime'] = pd.to_datetime(df['start'])\n",
    "\n",
    "    # Create a new column with only the date part of the datetime column\n",
    "    df['date'] = df['datetime'].dt.date\n",
    "\n",
    "    # Calculate the time difference between each datetime and 19:00 UTC\n",
    "    df['time_diff'] = (df['datetime'] - df['datetime'].dt.normalize() + pd.to_timedelta(\"19:00:00\")).abs()\n",
    "\n",
    "    # Group by date and find the row that has the smallest time difference\n",
    "    nearest_19_utc = df.loc[df.groupby('date')['time_diff'].idxmin()]\n",
    "\n",
    "    # Extract the files and nearest times\n",
    "    nearest_19_utc_with_files = df.loc[nearest_19_utc.index, ['datetime', 'start', 'file']]\n",
    "\n",
    "    # Convert the 'file' column to a Python list\n",
    "    file_list = nearest_19_utc_with_files['file'].tolist()\n",
    "\n",
    "    # Initialize a list to store local file paths\n",
    "    local_file_paths = []\n",
    "\n",
    "    # Loop through file_list and julian_day\n",
    "    for file, day in zip(file_list, julian_day):\n",
    "        # Correctly format the s3 file URL\n",
    "        s3_file_url = f's3://{file}'\n",
    "\n",
    "        # Correctly format the local file path with dataset_name and Julian day\n",
    "        local_file_path = f'C:/Users/adhal/OneDrive/Season3/Fall2024/MachineLearning/Data/GOESCloudMoistureImagery/GOES16_{dataset_name}_2022day{day}.nc'\n",
    "        \n",
    "        # Add local file path to the list\n",
    "        local_file_paths.append(local_file_path)\n",
    "\n",
    "        # Use AWS CLI to download the file\n",
    "        subprocess.run(['aws', 's3', 'cp', s3_file_url, local_file_path, '--no-sign-request'])\n",
    "\n",
    "        print(f\"File downloaded successfully to {local_file_path}\")\n",
    "\n",
    "    # Return both the list of file URLs and the local file paths\n",
    "    return local_file_paths\n"
   ]
  },
  {
   "cell_type": "markdown",
   "metadata": {},
   "source": [
    "### Downloading GOES-16 Files for Cloud and Radiation Products\n",
    "\n",
    "In this step, we are calling the `get_files16` function to download the GOES-16 files for three specific products: **Cloud and Moisture Imagery**, **Cloud Optical Depth**, and **Reflected Shortwave Radiation**. The function will download files corresponding to the nearest time (19:00 UTC) for each day from April 1 to April 10, 2020. Each product is saved under a descriptive dataset name, and the file download is handled by AWS CLI.\n",
    "\n",
    "1. **Cloud and Moisture Imagery**: \n",
    "   - The first `get_files16` call downloads files for the **Cloud and Moisture Product (ABI-L2-MCMIPC)**.\n",
    "   \n",
    "2. **Cloud Optical Depth**:\n",
    "   - The second `get_files16` call downloads files for the **Cloud Optical Depth Product (ABI-L2-CODC)**.\n",
    "   \n",
    "3. **Reflected Shortwave Radiation**:\n",
    "   - The third `get_files16` call downloads files for the **Reflected Shortwave Radiation Product (ABI-L2-RSRC)**.\n",
    "\n",
    "The output includes a list of local file paths for each product."
   ]
  },
  {
   "cell_type": "code",
   "execution_count": 5,
   "metadata": {},
   "outputs": [
    {
     "name": "stdout",
     "output_type": "stream",
     "text": [
      "Downloading files for Cloud and Moisture Product\n",
      "File downloaded successfully to C:/Users/adhal/OneDrive/Season3/Fall2024/MachineLearning/Data/GOESCloudMoistureImagery/GOES16_CloudAndMoistureImagery_2022day91.nc\n",
      "File downloaded successfully to C:/Users/adhal/OneDrive/Season3/Fall2024/MachineLearning/Data/GOESCloudMoistureImagery/GOES16_CloudAndMoistureImagery_2022day92.nc\n",
      "File downloaded successfully to C:/Users/adhal/OneDrive/Season3/Fall2024/MachineLearning/Data/GOESCloudMoistureImagery/GOES16_CloudAndMoistureImagery_2022day93.nc\n",
      "File downloaded successfully to C:/Users/adhal/OneDrive/Season3/Fall2024/MachineLearning/Data/GOESCloudMoistureImagery/GOES16_CloudAndMoistureImagery_2022day94.nc\n",
      "File downloaded successfully to C:/Users/adhal/OneDrive/Season3/Fall2024/MachineLearning/Data/GOESCloudMoistureImagery/GOES16_CloudAndMoistureImagery_2022day95.nc\n",
      "File downloaded successfully to C:/Users/adhal/OneDrive/Season3/Fall2024/MachineLearning/Data/GOESCloudMoistureImagery/GOES16_CloudAndMoistureImagery_2022day96.nc\n",
      "File downloaded successfully to C:/Users/adhal/OneDrive/Season3/Fall2024/MachineLearning/Data/GOESCloudMoistureImagery/GOES16_CloudAndMoistureImagery_2022day97.nc\n",
      "File downloaded successfully to C:/Users/adhal/OneDrive/Season3/Fall2024/MachineLearning/Data/GOESCloudMoistureImagery/GOES16_CloudAndMoistureImagery_2022day98.nc\n",
      "File downloaded successfully to C:/Users/adhal/OneDrive/Season3/Fall2024/MachineLearning/Data/GOESCloudMoistureImagery/GOES16_CloudAndMoistureImagery_2022day99.nc\n",
      "File downloaded successfully to C:/Users/adhal/OneDrive/Season3/Fall2024/MachineLearning/Data/GOESCloudMoistureImagery/GOES16_CloudAndMoistureImagery_2022day100.nc\n",
      "Downloading files for Cloud Optical Depth\n",
      "File downloaded successfully to C:/Users/adhal/OneDrive/Season3/Fall2024/MachineLearning/Data/GOESCloudMoistureImagery/GOES16_CloudOpticalDepth_2022day91.nc\n",
      "File downloaded successfully to C:/Users/adhal/OneDrive/Season3/Fall2024/MachineLearning/Data/GOESCloudMoistureImagery/GOES16_CloudOpticalDepth_2022day92.nc\n",
      "File downloaded successfully to C:/Users/adhal/OneDrive/Season3/Fall2024/MachineLearning/Data/GOESCloudMoistureImagery/GOES16_CloudOpticalDepth_2022day93.nc\n",
      "File downloaded successfully to C:/Users/adhal/OneDrive/Season3/Fall2024/MachineLearning/Data/GOESCloudMoistureImagery/GOES16_CloudOpticalDepth_2022day94.nc\n",
      "File downloaded successfully to C:/Users/adhal/OneDrive/Season3/Fall2024/MachineLearning/Data/GOESCloudMoistureImagery/GOES16_CloudOpticalDepth_2022day95.nc\n",
      "File downloaded successfully to C:/Users/adhal/OneDrive/Season3/Fall2024/MachineLearning/Data/GOESCloudMoistureImagery/GOES16_CloudOpticalDepth_2022day96.nc\n",
      "File downloaded successfully to C:/Users/adhal/OneDrive/Season3/Fall2024/MachineLearning/Data/GOESCloudMoistureImagery/GOES16_CloudOpticalDepth_2022day97.nc\n",
      "File downloaded successfully to C:/Users/adhal/OneDrive/Season3/Fall2024/MachineLearning/Data/GOESCloudMoistureImagery/GOES16_CloudOpticalDepth_2022day98.nc\n",
      "File downloaded successfully to C:/Users/adhal/OneDrive/Season3/Fall2024/MachineLearning/Data/GOESCloudMoistureImagery/GOES16_CloudOpticalDepth_2022day99.nc\n",
      "File downloaded successfully to C:/Users/adhal/OneDrive/Season3/Fall2024/MachineLearning/Data/GOESCloudMoistureImagery/GOES16_CloudOpticalDepth_2022day100.nc\n",
      "Downloading files for Reflected Shortwave Radiation\n",
      "File downloaded successfully to C:/Users/adhal/OneDrive/Season3/Fall2024/MachineLearning/Data/GOESCloudMoistureImagery/GOES16_ReflectedSW_2022day91.nc\n",
      "File downloaded successfully to C:/Users/adhal/OneDrive/Season3/Fall2024/MachineLearning/Data/GOESCloudMoistureImagery/GOES16_ReflectedSW_2022day92.nc\n",
      "File downloaded successfully to C:/Users/adhal/OneDrive/Season3/Fall2024/MachineLearning/Data/GOESCloudMoistureImagery/GOES16_ReflectedSW_2022day93.nc\n",
      "File downloaded successfully to C:/Users/adhal/OneDrive/Season3/Fall2024/MachineLearning/Data/GOESCloudMoistureImagery/GOES16_ReflectedSW_2022day94.nc\n",
      "File downloaded successfully to C:/Users/adhal/OneDrive/Season3/Fall2024/MachineLearning/Data/GOESCloudMoistureImagery/GOES16_ReflectedSW_2022day95.nc\n",
      "File downloaded successfully to C:/Users/adhal/OneDrive/Season3/Fall2024/MachineLearning/Data/GOESCloudMoistureImagery/GOES16_ReflectedSW_2022day96.nc\n",
      "File downloaded successfully to C:/Users/adhal/OneDrive/Season3/Fall2024/MachineLearning/Data/GOESCloudMoistureImagery/GOES16_ReflectedSW_2022day97.nc\n",
      "File downloaded successfully to C:/Users/adhal/OneDrive/Season3/Fall2024/MachineLearning/Data/GOESCloudMoistureImagery/GOES16_ReflectedSW_2022day98.nc\n",
      "File downloaded successfully to C:/Users/adhal/OneDrive/Season3/Fall2024/MachineLearning/Data/GOESCloudMoistureImagery/GOES16_ReflectedSW_2022day99.nc\n",
      "File downloaded successfully to C:/Users/adhal/OneDrive/Season3/Fall2024/MachineLearning/Data/GOESCloudMoistureImagery/GOES16_ReflectedSW_2022day100.nc\n"
     ]
    }
   ],
   "source": [
    "print('Downloading files for Cloud and Moisture Product')\n",
    "file_list_cloud_and_moisture = get_files16(df_cloud_and_moisture, 'CloudAndMoistureImagery')\n",
    "print('Downloading files for Cloud Optical Depth')\n",
    "file_list_cloud_optical_depth = get_files16(df_cloud_optical_depth, 'CloudOpticalDepth')\n",
    "print('Downloading files for Reflected Shortwave Radiation')\n",
    "file_list_reflected_sw = get_files16(df_reflected_sw, 'ReflectedSW')"
   ]
  },
  {
   "cell_type": "code",
   "execution_count": 6,
   "metadata": {},
   "outputs": [
    {
     "name": "stdout",
     "output_type": "stream",
     "text": [
      "Saving files for Cloud and Moisture Product\n",
      "Saving files for Cloud Optical Depth\n",
      "Saving files for Reflected Shortwave Radiation\n"
     ]
    }
   ],
   "source": [
    "print('Saving files for Cloud and Moisture Product')\n",
    "np.save('file_list_cloud_and_moisture.npy', file_list_cloud_and_moisture)\n",
    "print('Saving files for Cloud Optical Depth')\n",
    "np.save('file_list_cloud_optical_depth.npy', file_list_cloud_optical_depth)\n",
    "print('Saving files for Reflected Shortwave Radiation')\n",
    "np.save('file_list_reflected_sw.npy', file_list_reflected_sw)"
   ]
  },
  {
   "cell_type": "code",
   "execution_count": null,
   "metadata": {},
   "outputs": [],
   "source": []
  }
 ],
 "metadata": {
  "kernelspec": {
   "display_name": "Python 3",
   "language": "python",
   "name": "python3"
  },
  "language_info": {
   "codemirror_mode": {
    "name": "ipython",
    "version": 3
   },
   "file_extension": ".py",
   "mimetype": "text/x-python",
   "name": "python",
   "nbconvert_exporter": "python",
   "pygments_lexer": "ipython3",
   "version": "3.11.1"
  }
 },
 "nbformat": 4,
 "nbformat_minor": 2
}
